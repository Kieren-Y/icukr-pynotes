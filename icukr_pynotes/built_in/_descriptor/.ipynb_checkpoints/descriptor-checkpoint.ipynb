{
 "cells": [
  {
   "cell_type": "code",
   "execution_count": 30,
   "id": "8cdfaf9b",
   "metadata": {
    "ExecuteTime": {
     "end_time": "2022-10-18T15:36:31.341341Z",
     "start_time": "2022-10-18T15:36:31.334239Z"
    }
   },
   "outputs": [
    {
     "name": "stdout",
     "output_type": "stream",
     "text": [
      "run Descriptor __init__ method.\n",
      "run Descriptor __get__ method.\n",
      "instance:  None\n",
      "owner:  <class '__main__.Foo'>\n",
      "name from descriptor: hello world\n",
      "{'__module__': '__main__', 'x': <__main__.Descriptor object at 0x11816c0d0>, '__getattribute__': <function Foo.__getattribute__ at 0x11814f1f0>, '__dict__': <attribute '__dict__' of 'Foo' objects>, '__weakref__': <attribute '__weakref__' of 'Foo' objects>, '__doc__': None}\n",
      "run Descriptor __get__ method.\n",
      "instance:  None\n",
      "owner:  <class '__main__.Foo'>\n",
      "name from descriptor: hello world\n",
      "============================================================\n"
     ]
    }
   ],
   "source": [
    "class Descriptor:\n",
    "    \n",
    "    def __init__(self, name):\n",
    "        print(f\"run {self.__class__.__name__} __init__ method.\")\n",
    "        self.name = name\n",
    "\n",
    "    def __get__(self, instance, owner):\n",
    "        print(f\"run {self.__class__.__name__} __get__ method.\")\n",
    "        print(\"instance: \", instance)\n",
    "        print(\"owner: \", owner)\n",
    "        return f'name from descriptor: {self.name}'\n",
    "\n",
    "    def __set__(self, instance, value):\n",
    "        print(f\"run {self.__class__.__name__} __set__ method.\")\n",
    "        print(\"value: \", value)\n",
    "        instance.__dict__['_x'] = value\n",
    "\n",
    "class Foo:\n",
    "    x = Descriptor(\"hello world\")\n",
    "    \n",
    "    def __getattribute__(self, attr):\n",
    "        print(\"attr: \", attr)\n",
    "        res =  super(Foo, self).__getattribute__(attr)\n",
    "        print(\"res: \", res)\n",
    "        return res\n",
    "\n",
    "# f = Foo()\n",
    "# f.x\n"
   ]
  },
  {
   "cell_type": "code",
   "execution_count": 32,
   "id": "42a1df97",
   "metadata": {
    "ExecuteTime": {
     "end_time": "2022-10-18T15:37:31.988550Z",
     "start_time": "2022-10-18T15:37:31.983295Z"
    }
   },
   "outputs": [
    {
     "name": "stdout",
     "output_type": "stream",
     "text": [
      "run Descriptor __get__ method.\n",
      "instance:  None\n",
      "owner:  <class '__main__.Foo'>\n",
      "name from descriptor: hello world\n",
      "{'__module__': '__main__', 'x': <__main__.Descriptor object at 0x11816c0d0>, '__getattribute__': <function Foo.__getattribute__ at 0x11814f1f0>, '__dict__': <attribute '__dict__' of 'Foo' objects>, '__weakref__': <attribute '__weakref__' of 'Foo' objects>, '__doc__': None}\n",
      "run Descriptor __get__ method.\n",
      "instance:  None\n",
      "owner:  <class '__main__.Foo'>\n",
      "name from descriptor: hello world\n",
      "============================================================\n"
     ]
    }
   ],
   "source": [
    "print(Foo.x)\n",
    "print(Foo.__dict__)\n",
    "print(Foo.__dict__[\"x\"].__get__(None, Foo))\n",
    "print(\"===\"*20)\n",
    "\n",
    "Foo.x = \"kieren\""
   ]
  }
 ],
 "metadata": {
  "kernelspec": {
   "display_name": "Python 3 (ipykernel)",
   "language": "python",
   "name": "python3"
  },
  "language_info": {
   "codemirror_mode": {
    "name": "ipython",
    "version": 3
   },
   "file_extension": ".py",
   "mimetype": "text/x-python",
   "name": "python",
   "nbconvert_exporter": "python",
   "pygments_lexer": "ipython3",
   "version": "3.9.10"
  }
 },
 "nbformat": 4,
 "nbformat_minor": 5
}
