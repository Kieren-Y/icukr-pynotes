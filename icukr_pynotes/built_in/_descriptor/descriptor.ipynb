{
 "cells": [
  {
   "cell_type": "code",
   "execution_count": 30,
   "id": "29ccc2e2",
   "metadata": {
    "ExecuteTime": {
     "end_time": "2022-10-18T15:36:31.341341Z",
     "start_time": "2022-10-18T15:36:31.334239Z"
    }
   },
   "outputs": [
    {
     "name": "stdout",
     "output_type": "stream",
     "text": [
      "run Descriptor __init__ method.\n",
      "run Descriptor __get__ method.\n",
      "instance:  None\n",
      "owner:  <class '__main__.Foo'>\n",
      "name from descriptor: hello world\n",
      "{'__module__': '__main__', 'x': <__main__.Descriptor object at 0x11816c0d0>, '__getattribute__': <function Foo.__getattribute__ at 0x11814f1f0>, '__dict__': <attribute '__dict__' of 'Foo' objects>, '__weakref__': <attribute '__weakref__' of 'Foo' objects>, '__doc__': None}\n",
      "run Descriptor __get__ method.\n",
      "instance:  None\n",
      "owner:  <class '__main__.Foo'>\n",
      "name from descriptor: hello world\n",
      "============================================================\n"
     ]
    }
   ],
   "source": [
    "class Descriptor:\n",
    "    \n",
    "    def __init__(self, name):\n",
    "        print(f\"run {self.__class__.__name__} __init__ method.\")\n",
    "        self.name = name\n",
    "\n",
    "    def __get__(self, instance, owner):\n",
    "        print(f\"run {self.__class__.__name__} __get__ method.\")\n",
    "        print(\"instance: \", instance)\n",
    "        print(\"owner: \", owner)\n",
    "        return f'name from descriptor: {self.name}'\n",
    "\n",
    "    def __set__(self, instance, value):\n",
    "        print(f\"run {self.__class__.__name__} __set__ method.\")\n",
    "        print(\"value: \", value)\n",
    "        instance.__dict__['_x'] = value\n",
    "\n",
    "class Foo:\n",
    "    x = Descriptor(\"hello world\")\n",
    "    \n",
    "    def __getattribute__(self, attr):\n",
    "        print(\"attr: \", attr)\n",
    "        res =  super(Foo, self).__getattribute__(attr)\n",
    "        print(\"res: \", res)\n",
    "        return res\n",
    "\n",
    "# f = Foo()\n",
    "# f.x\n"
   ]
  },
  {
   "cell_type": "code",
   "execution_count": 33,
   "id": "ec9c5888",
   "metadata": {
    "ExecuteTime": {
     "end_time": "2022-10-18T15:38:53.887738Z",
     "start_time": "2022-10-18T15:38:53.867894Z"
    }
   },
   "outputs": [
    {
     "name": "stdout",
     "output_type": "stream",
     "text": [
      "kieren\n",
      "{'__module__': '__main__', 'x': 'kieren', '__getattribute__': <function Foo.__getattribute__ at 0x11814f1f0>, '__dict__': <attribute '__dict__' of 'Foo' objects>, '__weakref__': <attribute '__weakref__' of 'Foo' objects>, '__doc__': None}\n"
     ]
    },
    {
     "ename": "AttributeError",
     "evalue": "'str' object has no attribute '__get__'",
     "output_type": "error",
     "traceback": [
      "\u001b[0;31m---------------------------------------------------------------------------\u001b[0m",
      "\u001b[0;31mAttributeError\u001b[0m                            Traceback (most recent call last)",
      "Input \u001b[0;32mIn [33]\u001b[0m, in \u001b[0;36m<cell line: 3>\u001b[0;34m()\u001b[0m\n\u001b[1;32m      1\u001b[0m \u001b[38;5;28mprint\u001b[39m(Foo\u001b[38;5;241m.\u001b[39mx)\n\u001b[1;32m      2\u001b[0m \u001b[38;5;28mprint\u001b[39m(Foo\u001b[38;5;241m.\u001b[39m\u001b[38;5;18m__dict__\u001b[39m)\n\u001b[0;32m----> 3\u001b[0m \u001b[38;5;28mprint\u001b[39m(\u001b[43mFoo\u001b[49m\u001b[38;5;241;43m.\u001b[39;49m\u001b[38;5;18;43m__dict__\u001b[39;49m\u001b[43m[\u001b[49m\u001b[38;5;124;43m\"\u001b[39;49m\u001b[38;5;124;43mx\u001b[39;49m\u001b[38;5;124;43m\"\u001b[39;49m\u001b[43m]\u001b[49m\u001b[38;5;241;43m.\u001b[39;49m\u001b[38;5;21;43m__get__\u001b[39;49m(\u001b[38;5;28;01mNone\u001b[39;00m, Foo))\n\u001b[1;32m      4\u001b[0m \u001b[38;5;28mprint\u001b[39m(\u001b[38;5;124m\"\u001b[39m\u001b[38;5;124m===\u001b[39m\u001b[38;5;124m\"\u001b[39m\u001b[38;5;241m*\u001b[39m\u001b[38;5;241m20\u001b[39m)\n\u001b[1;32m      6\u001b[0m Foo\u001b[38;5;241m.\u001b[39mx \u001b[38;5;241m=\u001b[39m \u001b[38;5;124m\"\u001b[39m\u001b[38;5;124mkieren\u001b[39m\u001b[38;5;124m\"\u001b[39m\n",
      "\u001b[0;31mAttributeError\u001b[0m: 'str' object has no attribute '__get__'"
     ]
    }
   ],
   "source": [
    "print(Foo.x)\n",
    "print(Foo.__dict__)\n",
    "print(Foo.__dict__[\"x\"].__get__(None, Foo))\n",
    "print(\"===\"*20)\n",
    "\n",
    "Foo.x = \"kieren\""
   ]
  }
 ],
 "metadata": {
  "kernelspec": {
   "display_name": "Python 3.9.10 64-bit",
   "language": "python",
   "name": "python3"
  },
  "language_info": {
   "codemirror_mode": {
    "name": "ipython",
    "version": 3
   },
   "file_extension": ".py",
   "mimetype": "text/x-python",
   "name": "python",
   "nbconvert_exporter": "python",
   "pygments_lexer": "ipython3",
   "version": "3.9.10"
  },
  "vscode": {
   "interpreter": {
    "hash": "aee8b7b246df8f9039afb4144a1f6fd8d2ca17a180786b69acc140d282b71a49"
   }
  }
 },
 "nbformat": 4,
 "nbformat_minor": 5
}
